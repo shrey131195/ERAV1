{
 "cells": [
  {
   "cell_type": "code",
   "execution_count": 1,
   "metadata": {},
   "outputs": [
    {
     "name": "stderr",
     "output_type": "stream",
     "text": [
      "ERROR: Could not open requirements file: [Errno 2] No such file or directory: '/content/requirements.txt'\n"
     ]
    }
   ],
   "source": [
    "!pip install -r /content/requirements.txt"
   ]
  },
  {
   "cell_type": "code",
   "execution_count": 2,
   "metadata": {
    "id": "6PlbomWY3RSq"
   },
   "outputs": [
    {
     "ename": "ModuleNotFoundError",
     "evalue": "No module named 'albumentations'",
     "output_type": "error",
     "traceback": [
      "\u001b[1;31m---------------------------------------------------------------------------\u001b[0m",
      "\u001b[1;31mModuleNotFoundError\u001b[0m                       Traceback (most recent call last)",
      "Cell \u001b[1;32mIn[2], line 2\u001b[0m\n\u001b[0;32m      1\u001b[0m \u001b[38;5;28;01mfrom\u001b[39;00m \u001b[38;5;21;01mmodel\u001b[39;00m \u001b[38;5;28;01mimport\u001b[39;00m \u001b[38;5;241m*\u001b[39m\n\u001b[1;32m----> 2\u001b[0m \u001b[38;5;28;01mfrom\u001b[39;00m \u001b[38;5;21;01mutils\u001b[39;00m \u001b[38;5;28;01mimport\u001b[39;00m \u001b[38;5;241m*\u001b[39m\n\u001b[0;32m      3\u001b[0m train_transforms \u001b[38;5;241m=\u001b[39m get_train_transforms()\n\u001b[0;32m      4\u001b[0m test_transforms \u001b[38;5;241m=\u001b[39m get_test_transforms()\n",
      "File \u001b[1;32m~\\Downloads\\Session12\\utils.py:7\u001b[0m\n\u001b[0;32m      5\u001b[0m \u001b[38;5;28;01mimport\u001b[39;00m \u001b[38;5;21;01mtorch\u001b[39;00m\u001b[38;5;21;01m.\u001b[39;00m\u001b[38;5;21;01moptim\u001b[39;00m \u001b[38;5;28;01mas\u001b[39;00m \u001b[38;5;21;01moptim\u001b[39;00m\n\u001b[0;32m      6\u001b[0m \u001b[38;5;28;01mfrom\u001b[39;00m \u001b[38;5;21;01mtorchvision\u001b[39;00m \u001b[38;5;28;01mimport\u001b[39;00m datasets, transforms\n\u001b[1;32m----> 7\u001b[0m \u001b[38;5;28;01mimport\u001b[39;00m \u001b[38;5;21;01malbumentations\u001b[39;00m \u001b[38;5;28;01mas\u001b[39;00m \u001b[38;5;21;01mA\u001b[39;00m\n\u001b[0;32m      8\u001b[0m \u001b[38;5;28;01mimport\u001b[39;00m \u001b[38;5;21;01mnumpy\u001b[39;00m \u001b[38;5;28;01mas\u001b[39;00m \u001b[38;5;21;01mnp\u001b[39;00m\n\u001b[0;32m      9\u001b[0m \u001b[38;5;28;01mfrom\u001b[39;00m \u001b[38;5;21;01malbumentations\u001b[39;00m\u001b[38;5;21;01m.\u001b[39;00m\u001b[38;5;21;01mpytorch\u001b[39;00m \u001b[38;5;28;01mimport\u001b[39;00m ToTensorV2\n",
      "\u001b[1;31mModuleNotFoundError\u001b[0m: No module named 'albumentations'"
     ]
    }
   ],
   "source": [
    "from model_lt import *\n",
    "from utils import *\n",
    "train_transforms = get_train_transforms()\n",
    "test_transforms = get_test_transforms()"
   ]
  },
  {
   "cell_type": "code",
   "execution_count": 52,
   "metadata": {
    "id": "KpshQ2Ug38m2"
   },
   "outputs": [],
   "source": [
    "train_loader,test_loader = get_cifar_data(train_transforms,test_transforms)"
   ]
  },
  {
   "cell_type": "code",
   "execution_count": 14,
   "metadata": {
    "colab": {
     "base_uri": "https://localhost:8080/"
    },
    "id": "gpNw3-sy4QGd",
    "outputId": "43a6a9d6-ed9a-48dc-cec7-57f4bb18c8de",
    "scrolled": true
   },
   "outputs": [
    {
     "name": "stdout",
     "output_type": "stream",
     "text": [
      "Requirement already satisfied: torchsummary in /usr/local/lib/python3.10/dist-packages (1.5.1)\n",
      "----------------------------------------------------------------\n",
      "        Layer (type)               Output Shape         Param #\n",
      "================================================================\n",
      "            Conv2d-1           [-1, 32, 32, 32]             864\n",
      "              ReLU-2           [-1, 32, 32, 32]               0\n",
      "       BatchNorm2d-3           [-1, 32, 32, 32]              64\n",
      "           Dropout-4           [-1, 32, 32, 32]               0\n",
      "            Conv2d-5           [-1, 32, 32, 32]           9,216\n",
      "              ReLU-6           [-1, 32, 32, 32]               0\n",
      "       BatchNorm2d-7           [-1, 32, 32, 32]              64\n",
      "           Dropout-8           [-1, 32, 32, 32]               0\n",
      "            Conv2d-9           [-1, 64, 16, 16]          18,432\n",
      "             ReLU-10           [-1, 64, 16, 16]               0\n",
      "      BatchNorm2d-11           [-1, 64, 16, 16]             128\n",
      "          Dropout-12           [-1, 64, 16, 16]               0\n",
      "           Conv2d-13           [-1, 32, 18, 18]           2,048\n",
      "           Conv2d-14           [-1, 64, 16, 16]          18,432\n",
      "             ReLU-15           [-1, 64, 16, 16]               0\n",
      "      BatchNorm2d-16           [-1, 64, 16, 16]             128\n",
      "          Dropout-17           [-1, 64, 16, 16]               0\n",
      "           Conv2d-18             [-1, 64, 8, 8]          36,864\n",
      "             ReLU-19             [-1, 64, 8, 8]               0\n",
      "      BatchNorm2d-20             [-1, 64, 8, 8]             128\n",
      "          Dropout-21             [-1, 64, 8, 8]               0\n",
      "           Conv2d-22             [-1, 64, 8, 8]             640\n",
      "           Conv2d-23             [-1, 64, 8, 8]           4,160\n",
      "             ReLU-24             [-1, 64, 8, 8]               0\n",
      "      BatchNorm2d-25             [-1, 64, 8, 8]             128\n",
      "          Dropout-26             [-1, 64, 8, 8]               0\n",
      "           Conv2d-27             [-1, 64, 5, 5]          36,864\n",
      "             ReLU-28             [-1, 64, 5, 5]               0\n",
      "      BatchNorm2d-29             [-1, 64, 5, 5]             128\n",
      "          Dropout-30             [-1, 64, 5, 5]               0\n",
      "           Conv2d-31             [-1, 64, 7, 7]          36,864\n",
      "             ReLU-32             [-1, 64, 7, 7]               0\n",
      "      BatchNorm2d-33             [-1, 64, 7, 7]             128\n",
      "          Dropout-34             [-1, 64, 7, 7]               0\n",
      "           Conv2d-35             [-1, 64, 5, 5]          36,864\n",
      "             ReLU-36             [-1, 64, 5, 5]               0\n",
      "      BatchNorm2d-37             [-1, 64, 5, 5]             128\n",
      "          Dropout-38             [-1, 64, 5, 5]               0\n",
      "        AvgPool2d-39             [-1, 64, 1, 1]               0\n",
      "           Conv2d-40             [-1, 32, 1, 1]           2,048\n",
      "             ReLU-41             [-1, 32, 1, 1]               0\n",
      "           Conv2d-42             [-1, 10, 1, 1]             320\n",
      "================================================================\n",
      "Total params: 204,640\n",
      "Trainable params: 204,640\n",
      "Non-trainable params: 0\n",
      "----------------------------------------------------------------\n",
      "Input size (MB): 0.01\n",
      "Forward/backward pass size (MB): 3.55\n",
      "Params size (MB): 0.78\n",
      "Estimated Total Size (MB): 4.35\n",
      "----------------------------------------------------------------\n"
     ]
    }
   ],
   "source": [
    "model = CustomResnet()\n",
    "get_model_summary(model, input_shape=(3, 32, 32))"
   ]
  },
  {
   "cell_type": "code",
   "execution_count": null,
   "metadata": {},
   "outputs": [],
   "source": [
    "import lightning.pytorch as pl\n",
    "use_cuda = torch.cuda.is_available()\n",
    "device = torch.device(\"cuda\" if use_cuda else \"cpu\")\n",
    "model = CustomResnet().to(device)\n",
    "trainer = pl.Trainer(max_epochs = 20)\n",
    "trainer.fit(model,train_loader,test_loader)"
   ]
  },
  {
   "cell_type": "code",
   "execution_count": null,
   "metadata": {},
   "outputs": [],
   "source": [
    "%load_ext tensorboard\n",
    "%tensorboard --logdir lightning_logs/\n",
    "\n",
    "torch.save(model.state_dict(), 'cifar10_model.pth')"
   ]
  },
  {
   "cell_type": "code",
   "execution_count": null,
   "metadata": {},
   "outputs": [],
   "source": [
    "# model =  model_10().to(device)\n",
    "# optimizer = optim.Adam(model.parameters(), lr=0.03, weight_decay=1e-4)\n",
    "# criterion = nn.CrossEntropyLoss(reduction=\"sum\")\n",
    "# lr_finder = LRFinder(model, optimizer, criterion, device=\"cuda\")\n",
    "# lr_finder.range_test(train_loader, end_lr=100, num_iter=200, step_mode=\"exp\")\n",
    "# lr_finder.plot() # to inspect the loss-learning rate graph\n",
    "# lr_finder.reset()\n",
    "\n",
    "# Start tensorboard.\n",
    "\n",
    "\n",
    "model.load_state_dict(torch.load(\"cifar10_model.pth\"))\n",
    "trainer = pl.Trainer()\n",
    "predictions = trainer.predict(model, test_loader)"
   ]
  },
  {
   "cell_type": "code",
   "execution_count": null,
   "metadata": {
    "id": "p1UiYU1IsgaS"
   },
   "outputs": [],
   "source": [
    "class_names = ['airplane', 'automobile', 'bird', 'cat', 'deer', 'dog', 'frog', 'horse', 'ship', 'truck']\n",
    "model = model.to(device)\n",
    "plot_misclassified(10,model,test_loader,class_names,cam = True)"
   ]
  }
 ],
 "metadata": {
  "accelerator": "GPU",
  "colab": {
   "gpuType": "T4",
   "provenance": []
  },
  "kernelspec": {
   "display_name": "Python 3 (ipykernel)",
   "language": "python",
   "name": "python3"
  },
  "language_info": {
   "codemirror_mode": {
    "name": "ipython",
    "version": 3
   },
   "file_extension": ".py",
   "mimetype": "text/x-python",
   "name": "python",
   "nbconvert_exporter": "python",
   "pygments_lexer": "ipython3",
   "version": "3.10.9"
  }
 },
 "nbformat": 4,
 "nbformat_minor": 1
}
