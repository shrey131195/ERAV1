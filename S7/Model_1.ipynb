{
 "cells": [
  {
   "cell_type": "markdown",
   "metadata": {
    "id": "n09vaEgP6pLj"
   },
   "source": [
    "CODE BLOCK: 1"
   ]
  },
  {
   "cell_type": "code",
   "execution_count": 1,
   "metadata": {
    "id": "6PlbomWY3RSq"
   },
   "outputs": [],
   "source": [
    "import torch\n",
    "import torch.nn as nn\n",
    "# import torch.nn.functional as F\n",
    "import torch.optim as optim\n",
    "from torchvision import datasets, transforms"
   ]
  },
  {
   "cell_type": "markdown",
   "metadata": {
    "id": "VjBHHQVA6sXt"
   },
   "source": [
    "CODE BLOCK: 2"
   ]
  },
  {
   "cell_type": "code",
   "execution_count": 2,
   "metadata": {
    "colab": {
     "base_uri": "https://localhost:8080/"
    },
    "id": "94BxVVBP3WwS",
    "outputId": "e2473b81-a240-4f7f-d2c2-46150a98adc8"
   },
   "outputs": [
    {
     "name": "stdout",
     "output_type": "stream",
     "text": [
      "CUDA Available? False\n"
     ]
    }
   ],
   "source": [
    "# CUDA?\n",
    "cuda = torch.cuda.is_available()\n",
    "print(\"CUDA Available?\", cuda)"
   ]
  },
  {
   "cell_type": "markdown",
   "metadata": {
    "id": "3UHq59Sw6tmW"
   },
   "source": [
    "CODE BLOCK: 3"
   ]
  },
  {
   "cell_type": "code",
   "execution_count": 3,
   "metadata": {
    "id": "KpshQ2Ug38m2"
   },
   "outputs": [],
   "source": [
    "# Train data transformations\n",
    "train_transforms = transforms.Compose([\n",
    "    transforms.RandomRotation((-15., 15.), fill=1),\n",
    "    transforms.ToTensor(),\n",
    "    transforms.Normalize((0.1307,), (0.3081,)),\n",
    "    ])\n",
    "\n",
    "# Test data transformations\n",
    "test_transforms = transforms.Compose([\n",
    "    transforms.ToTensor(),\n",
    "    transforms.Normalize((0.1307,), (0.3081,))\n",
    "    ])"
   ]
  },
  {
   "cell_type": "markdown",
   "metadata": {
    "id": "zQm17pM46zHL"
   },
   "source": [
    "CODE BLOCK: 4"
   ]
  },
  {
   "cell_type": "code",
   "execution_count": 4,
   "metadata": {
    "id": "JB79ZYW13-AO"
   },
   "outputs": [],
   "source": [
    "from utils import get_mnist_data\n",
    "\n",
    "train_data, test_data = get_mnist_data(train_transforms, test_transforms)"
   ]
  },
  {
   "cell_type": "markdown",
   "metadata": {
    "id": "_PKSHxto6116"
   },
   "source": [
    "CODE BLOCK: 5"
   ]
  },
  {
   "cell_type": "code",
   "execution_count": 5,
   "metadata": {
    "id": "avCKK1uL4A68"
   },
   "outputs": [],
   "source": [
    "batch_size = 512\n",
    "\n",
    "kwargs = {'batch_size': batch_size, 'shuffle': True, 'num_workers': 4, 'pin_memory': True}\n",
    "\n",
    "test_loader = torch.utils.data.DataLoader(test_data, **kwargs)\n",
    "train_loader = torch.utils.data.DataLoader(train_data, **kwargs)"
   ]
  },
  {
   "cell_type": "markdown",
   "metadata": {
    "id": "Hi_0rfq56-29"
   },
   "source": [
    "CODE BLOCK: 6"
   ]
  },
  {
   "cell_type": "code",
   "execution_count": 6,
   "metadata": {
    "colab": {
     "base_uri": "https://localhost:8080/",
     "height": 463
    },
    "id": "Hx7QkLcw4Epc",
    "outputId": "b6002954-e197-4c71-cc60-a3e8741b4ca1"
   },
   "outputs": [
    {
     "data": {
      "image/png": "[encoded data removed]",
      "text/plain": [
       "<Figure size 640x480 with 12 Axes>"
      ]
     },
     "metadata": {},
     "output_type": "display_data"
    }
   ],
   "source": [
    "import matplotlib.pyplot as plt\n",
    "\n",
    "batch_data, batch_label = next(iter(train_loader)) \n",
    "\n",
    "fig = plt.figure()\n",
    "\n",
    "for i in range(12):\n",
    "  plt.subplot(3,4,i+1)\n",
    "  plt.tight_layout()\n",
    "  plt.imshow(batch_data[i].squeeze(0), cmap='gray')\n",
    "  plt.title(batch_label[i].item())\n",
    "  plt.xticks([])\n",
    "  plt.yticks([])"
   ]
  },
  {
   "cell_type": "markdown",
   "metadata": {
    "id": "y3XbVJSb7Aee"
   },
   "source": [
    "CODE BLOCK: 7"
   ]
  },
  {
   "cell_type": "code",
   "execution_count": 7,
   "metadata": {
    "id": "UHBolvMH4F8y"
   },
   "outputs": [],
   "source": [
    "from model import model_1"
   ]
  },
  {
   "cell_type": "markdown",
   "metadata": {
    "id": "89gd4_s7AO2y"
   },
   "source": [
    "CODE BLOCK: 8"
   ]
  },
  {
   "cell_type": "code",
   "execution_count": 8,
   "metadata": {
    "id": "7du4zM474LvT"
   },
   "outputs": [],
   "source": [
    "# Data to plot accuracy and loss graphs\n",
    "train_losses = []\n",
    "test_losses = []\n",
    "train_acc = []\n",
    "test_acc = []\n",
    "\n",
    "test_incorrect_pred = {'images': [], 'ground_truths': [], 'predicted_vals': []}"
   ]
  },
  {
   "cell_type": "markdown",
   "metadata": {
    "id": "kCwIPHqwAQgB"
   },
   "source": [
    "CODE BLOCK: 9"
   ]
  },
  {
   "cell_type": "code",
   "execution_count": 9,
   "metadata": {
    "id": "gpNw3-sy4QGd"
   },
   "outputs": [
    {
     "name": "stdout",
     "output_type": "stream",
     "text": [
      "Requirement already satisfied: torchsummary in c:\\users\\shrey\\anaconda3\\lib\\site-packages (1.5.1)\n",
      "----------------------------------------------------------------\n",
      "        Layer (type)               Output Shape         Param #\n",
      "================================================================\n",
      "            Conv2d-1           [-1, 32, 26, 26]             288\n",
      "              ReLU-2           [-1, 32, 26, 26]               0\n",
      "            Conv2d-3           [-1, 64, 24, 24]          18,432\n",
      "              ReLU-4           [-1, 64, 24, 24]               0\n",
      "            Conv2d-5          [-1, 128, 22, 22]          73,728\n",
      "              ReLU-6          [-1, 128, 22, 22]               0\n",
      "         MaxPool2d-7          [-1, 128, 11, 11]               0\n",
      "            Conv2d-8           [-1, 32, 11, 11]           4,096\n",
      "              ReLU-9           [-1, 32, 11, 11]               0\n",
      "           Conv2d-10             [-1, 64, 9, 9]          18,432\n",
      "             ReLU-11             [-1, 64, 9, 9]               0\n",
      "           Conv2d-12            [-1, 128, 7, 7]          73,728\n",
      "             ReLU-13            [-1, 128, 7, 7]               0\n",
      "           Conv2d-14             [-1, 10, 7, 7]           1,280\n",
      "             ReLU-15             [-1, 10, 7, 7]               0\n",
      "           Conv2d-16             [-1, 10, 1, 1]           4,900\n",
      "================================================================\n",
      "Total params: 194,884\n",
      "Trainable params: 194,884\n",
      "Non-trainable params: 0\n",
      "----------------------------------------------------------------\n",
      "Input size (MB): 0.00\n",
      "Forward/backward pass size (MB): 2.20\n",
      "Params size (MB): 0.74\n",
      "Estimated Total Size (MB): 2.94\n",
      "----------------------------------------------------------------\n"
     ]
    }
   ],
   "source": [
    "from utils import train, test\n",
    "!pip install torchsummary\n",
    "from torchsummary import summary\n",
    "use_cuda = torch.cuda.is_available()\n",
    "device = torch.device(\"cuda\" if use_cuda else \"cpu\")\n",
    "model = model_1().to(device)\n",
    "summary(model, input_size=(1, 28, 28))"
   ]
  },
  {
   "cell_type": "markdown",
   "metadata": {
    "id": "09GYKBGRAT5M"
   },
   "source": [
    "CODE BLOCK: 10"
   ]
  },
  {
   "cell_type": "code",
   "execution_count": 10,
   "metadata": {
    "colab": {
     "base_uri": "https://localhost:8080/",
     "height": 436
    },
    "id": "Owqiet9M4TV7",
    "outputId": "af06dce8-1f8a-45b1-f427-87c04d7f1955"
   },
   "outputs": [
    {
     "name": "stdout",
     "output_type": "stream",
     "text": [
      "Adjusting learning rate of group 0 to 8.0000e-02.\n",
      "Epoch 1\n"
     ]
    },
    {
     "name": "stderr",
     "output_type": "stream",
     "text": [
      "Loss=2.3016669750213623 Batch_id=117 Accuracy=19.00: 100%|███████████████████████████| 118/118 [03:10<00:00,  1.61s/it]\n"
     ]
    },
    {
     "name": "stdout",
     "output_type": "stream",
     "text": [
      "\n",
      "Test set: Average loss: 2.3020, Accuracy: 1192/10000 (11.92%)\n",
      "\n",
      "Adjusting learning rate of group 0 to 8.0000e-02.\n",
      "Epoch 2\n"
     ]
    },
    {
     "name": "stderr",
     "output_type": "stream",
     "text": [
      "Loss=0.28266721963882446 Batch_id=117 Accuracy=58.62: 100%|██████████████████████████| 118/118 [03:10<00:00,  1.62s/it]\n"
     ]
    },
    {
     "name": "stdout",
     "output_type": "stream",
     "text": [
      "\n",
      "Test set: Average loss: 0.4595, Accuracy: 8760/10000 (87.60%)\n",
      "\n",
      "Adjusting learning rate of group 0 to 8.0000e-02.\n",
      "Epoch 3\n"
     ]
    },
    {
     "name": "stderr",
     "output_type": "stream",
     "text": [
      "Loss=0.21789030730724335 Batch_id=117 Accuracy=91.75: 100%|██████████████████████████| 118/118 [03:06<00:00,  1.58s/it]\n"
     ]
    },
    {
     "name": "stdout",
     "output_type": "stream",
     "text": [
      "\n",
      "Test set: Average loss: 0.1911, Accuracy: 9390/10000 (93.90%)\n",
      "\n",
      "Adjusting learning rate of group 0 to 8.0000e-02.\n",
      "Epoch 4\n"
     ]
    },
    {
     "name": "stderr",
     "output_type": "stream",
     "text": [
      "Loss=0.06738763302564621 Batch_id=117 Accuracy=94.80: 100%|██████████████████████████| 118/118 [03:07<00:00,  1.59s/it]\n"
     ]
    },
    {
     "name": "stdout",
     "output_type": "stream",
     "text": [
      "\n",
      "Test set: Average loss: 0.1022, Accuracy: 9688/10000 (96.88%)\n",
      "\n",
      "Adjusting learning rate of group 0 to 8.0000e-02.\n",
      "Epoch 5\n"
     ]
    },
    {
     "name": "stderr",
     "output_type": "stream",
     "text": [
      "Loss=0.12444431334733963 Batch_id=117 Accuracy=95.98: 100%|██████████████████████████| 118/118 [02:58<00:00,  1.51s/it]\n"
     ]
    },
    {
     "name": "stdout",
     "output_type": "stream",
     "text": [
      "\n",
      "Test set: Average loss: 0.0947, Accuracy: 9713/10000 (97.13%)\n",
      "\n",
      "Adjusting learning rate of group 0 to 8.0000e-02.\n",
      "Epoch 6\n"
     ]
    },
    {
     "name": "stderr",
     "output_type": "stream",
     "text": [
      "Loss=0.16835467517375946 Batch_id=117 Accuracy=96.57: 100%|██████████████████████████| 118/118 [03:02<00:00,  1.54s/it]\n"
     ]
    },
    {
     "name": "stdout",
     "output_type": "stream",
     "text": [
      "\n",
      "Test set: Average loss: 0.0637, Accuracy: 9805/10000 (98.05%)\n",
      "\n",
      "Adjusting learning rate of group 0 to 8.0000e-02.\n",
      "Epoch 7\n"
     ]
    },
    {
     "name": "stderr",
     "output_type": "stream",
     "text": [
      "Loss=0.12503476440906525 Batch_id=117 Accuracy=96.76: 100%|██████████████████████████| 118/118 [03:08<00:00,  1.60s/it]\n"
     ]
    },
    {
     "name": "stdout",
     "output_type": "stream",
     "text": [
      "\n",
      "Test set: Average loss: 0.0747, Accuracy: 9791/10000 (97.91%)\n",
      "\n",
      "Adjusting learning rate of group 0 to 8.0000e-02.\n",
      "Epoch 8\n"
     ]
    },
    {
     "name": "stderr",
     "output_type": "stream",
     "text": [
      "Loss=0.09784948080778122 Batch_id=117 Accuracy=97.17: 100%|██████████████████████████| 118/118 [02:52<00:00,  1.46s/it]\n"
     ]
    },
    {
     "name": "stdout",
     "output_type": "stream",
     "text": [
      "\n",
      "Test set: Average loss: 0.0778, Accuracy: 9768/10000 (97.68%)\n",
      "\n",
      "Adjusting learning rate of group 0 to 8.0000e-02.\n",
      "Epoch 9\n"
     ]
    },
    {
     "name": "stderr",
     "output_type": "stream",
     "text": [
      "Loss=0.16380496323108673 Batch_id=117 Accuracy=97.20: 100%|██████████████████████████| 118/118 [03:12<00:00,  1.63s/it]\n"
     ]
    },
    {
     "name": "stdout",
     "output_type": "stream",
     "text": [
      "\n",
      "Test set: Average loss: 0.0572, Accuracy: 9815/10000 (98.15%)\n",
      "\n",
      "Adjusting learning rate of group 0 to 8.0000e-02.\n",
      "Epoch 10\n"
     ]
    },
    {
     "name": "stderr",
     "output_type": "stream",
     "text": [
      "Loss=0.04344947636127472 Batch_id=117 Accuracy=97.46: 100%|██████████████████████████| 118/118 [03:23<00:00,  1.72s/it]\n"
     ]
    },
    {
     "name": "stdout",
     "output_type": "stream",
     "text": [
      "\n",
      "Test set: Average loss: 0.0569, Accuracy: 9834/10000 (98.34%)\n",
      "\n",
      "Adjusting learning rate of group 0 to 8.0000e-03.\n",
      "Epoch 11\n"
     ]
    },
    {
     "name": "stderr",
     "output_type": "stream",
     "text": [
      "Loss=0.03689924627542496 Batch_id=117 Accuracy=98.13: 100%|██████████████████████████| 118/118 [03:21<00:00,  1.71s/it]\n"
     ]
    },
    {
     "name": "stdout",
     "output_type": "stream",
     "text": [
      "\n",
      "Test set: Average loss: 0.0428, Accuracy: 9867/10000 (98.67%)\n",
      "\n",
      "Adjusting learning rate of group 0 to 8.0000e-03.\n",
      "Epoch 12\n"
     ]
    },
    {
     "name": "stderr",
     "output_type": "stream",
     "text": [
      "Loss=0.013655241578817368 Batch_id=117 Accuracy=98.29: 100%|█████████████████████████| 118/118 [03:11<00:00,  1.62s/it]\n"
     ]
    },
    {
     "name": "stdout",
     "output_type": "stream",
     "text": [
      "\n",
      "Test set: Average loss: 0.0411, Accuracy: 9871/10000 (98.71%)\n",
      "\n",
      "Adjusting learning rate of group 0 to 8.0000e-03.\n",
      "Epoch 13\n"
     ]
    },
    {
     "name": "stderr",
     "output_type": "stream",
     "text": [
      "Loss=0.007946922443807125 Batch_id=117 Accuracy=98.28: 100%|█████████████████████████| 118/118 [03:05<00:00,  1.57s/it]\n"
     ]
    },
    {
     "name": "stdout",
     "output_type": "stream",
     "text": [
      "\n",
      "Test set: Average loss: 0.0406, Accuracy: 9875/10000 (98.75%)\n",
      "\n",
      "Adjusting learning rate of group 0 to 8.0000e-03.\n",
      "Epoch 14\n"
     ]
    },
    {
     "name": "stderr",
     "output_type": "stream",
     "text": [
      "Loss=0.08714646100997925 Batch_id=117 Accuracy=98.35: 100%|██████████████████████████| 118/118 [03:07<00:00,  1.59s/it]\n"
     ]
    },
    {
     "name": "stdout",
     "output_type": "stream",
     "text": [
      "\n",
      "Test set: Average loss: 0.0401, Accuracy: 9879/10000 (98.79%)\n",
      "\n",
      "Adjusting learning rate of group 0 to 8.0000e-03.\n",
      "Epoch 15\n"
     ]
    },
    {
     "name": "stderr",
     "output_type": "stream",
     "text": [
      "Loss=0.08051323145627975 Batch_id=117 Accuracy=98.38: 100%|██████████████████████████| 118/118 [02:59<00:00,  1.52s/it]\n"
     ]
    },
    {
     "name": "stdout",
     "output_type": "stream",
     "text": [
      "\n",
      "Test set: Average loss: 0.0390, Accuracy: 9874/10000 (98.74%)\n",
      "\n",
      "Adjusting learning rate of group 0 to 8.0000e-03.\n"
     ]
    }
   ],
   "source": [
    "use_cuda = torch.cuda.is_available()\n",
    "device = torch.device(\"cuda\" if cuda else \"cpu\")\n",
    "model = model_1().to(device)\n",
    "\n",
    "\n",
    "optimizer = optim.SGD(model.parameters(), lr=0.08, momentum=0.9)\n",
    "scheduler = optim.lr_scheduler.StepLR(optimizer, step_size=10, gamma=0.1, verbose=True)\n",
    "num_epochs = 15\n",
    "\n",
    "for epoch in range(1, num_epochs+1):\n",
    "  print(f'Epoch {epoch}')\n",
    "  model, train_losses, train_acc = train(model, device, train_loader, optimizer, train_losses, train_acc)\n",
    "  model, test_losses, test_acc = test(model, device, test_loader, test_losses, test_acc)\n",
    "  scheduler.step()"
   ]
  },
  {
   "cell_type": "markdown",
   "metadata": {
    "id": "B-LM-Z1k6FcF"
   },
   "source": [
    "CODE BLOCK: 11"
   ]
  },
  {
   "cell_type": "code",
   "execution_count": null,
   "metadata": {},
   "outputs": [],
   "source": []
  }
 ],
 "metadata": {
  "accelerator": "GPU",
  "colab": {
   "gpuType": "T4",
   "provenance": []
  },
  "kernelspec": {
   "display_name": "Python 3 (ipykernel)",
   "language": "python",
   "name": "python3"
  },
  "language_info": {
   "codemirror_mode": {
    "name": "ipython",
    "version": 3
   },
   "file_extension": ".py",
   "mimetype": "text/x-python",
   "name": "python",
   "nbconvert_exporter": "python",
   "pygments_lexer": "ipython3",
   "version": "3.10.9"
  }
 },
 "nbformat": 4,
 "nbformat_minor": 1
}
