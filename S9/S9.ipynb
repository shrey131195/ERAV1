{
  "cells": [
    {
      "cell_type": "markdown",
      "metadata": {
        "id": "n09vaEgP6pLj"
      },
      "source": [
        "CODE BLOCK: 1"
      ]
    },
    {
      "cell_type": "code",
      "execution_count": 50,
      "metadata": {
        "id": "6PlbomWY3RSq"
      },
      "outputs": [],
      "source": [
        "import torch\n",
        "import torch.nn as nnF\n",
        "import torch.optim as optim\n",
        "import torchvision\n",
        "import albumentations as A\n",
        "from albumentations.pytorch import ToTensorV2\n",
        "from torchvision import datasets, transforms"
      ]
    },
    {
      "cell_type": "markdown",
      "metadata": {
        "id": "VjBHHQVA6sXt"
      },
      "source": [
        "CODE BLOCK: 2"
      ]
    },
    {
      "cell_type": "code",
      "execution_count": 51,
      "metadata": {
        "colab": {
          "base_uri": "https://localhost:8080/"
        },
        "id": "94BxVVBP3WwS",
        "outputId": "c766b3a8-c588-47aa-a74f-8a61cce711c2"
      },
      "outputs": [
        {
          "output_type": "stream",
          "name": "stdout",
          "text": [
            "CUDA Available? True\n"
          ]
        }
      ],
      "source": [
        "# CUDA?\n",
        "cuda = torch.cuda.is_available()\n",
        "print(\"CUDA Available?\", cuda)"
      ]
    },
    {
      "cell_type": "markdown",
      "metadata": {
        "id": "3UHq59Sw6tmW"
      },
      "source": [
        "CODE BLOCK: 3"
      ]
    },
    {
      "cell_type": "code",
      "execution_count": 52,
      "metadata": {
        "id": "KpshQ2Ug38m2"
      },
      "outputs": [],
      "source": [
        "# Train data transformations\n",
        "train_transforms = transforms.Compose([\n",
        "    #transforms.RandomRotation((-15., 15.), fill=0),\n",
        "    transforms.ToTensor(),\n",
        "    transforms.Normalize((0.5,0.5,0.5), (0.5,0.5,0.5)),\n",
        "    ])\n",
        "\n",
        "# Test data transformations\n",
        "test_transforms = transforms.Compose([\n",
        "    transforms.ToTensor(),\n",
        "    transforms.Normalize((0.5,0.5,0.5), (0.5,0.5,0.5))\n",
        "    ])"
      ]
    },
    {
      "cell_type": "markdown",
      "metadata": {
        "id": "zQm17pM46zHL"
      },
      "source": [
        "CODE BLOCK: 4"
      ]
    },
    {
      "cell_type": "code",
      "execution_count": 53,
      "metadata": {
        "id": "JB79ZYW13-AO",
        "colab": {
          "base_uri": "https://localhost:8080/"
        },
        "outputId": "f03237e0-266f-446e-f18f-dae14e8e48a4"
      },
      "outputs": [
        {
          "output_type": "stream",
          "name": "stdout",
          "text": [
            "Files already downloaded and verified\n",
            "Files already downloaded and verified\n"
          ]
        }
      ],
      "source": [
        "from utils import get_mnist_data\n",
        "\n",
        "train_data, test_data = get_mnist_data(train_transforms, test_transforms)"
      ]
    },
    {
      "cell_type": "markdown",
      "metadata": {
        "id": "_PKSHxto6116"
      },
      "source": [
        "CODE BLOCK: 5"
      ]
    },
    {
      "cell_type": "code",
      "execution_count": 54,
      "metadata": {
        "id": "avCKK1uL4A68"
      },
      "outputs": [],
      "source": [
        "batch_size = 512\n",
        "\n",
        "kwargs = {'batch_size': batch_size, 'shuffle': True, 'num_workers': 4, 'pin_memory': True}\n",
        "\n",
        "test_loader = torch.utils.data.DataLoader(test_data, **kwargs)\n",
        "train_loader = torch.utils.data.DataLoader(train_data, **kwargs)"
      ]
    },
    {
      "cell_type": "markdown",
      "metadata": {
        "id": "Hi_0rfq56-29"
      },
      "source": [
        "CODE BLOCK: 6"
      ]
    },
    {
      "cell_type": "code",
      "execution_count": 55,
      "metadata": {
        "colab": {
          "base_uri": "https://localhost:8080/",
          "height": 191
        },
        "id": "Hx7QkLcw4Epc",
        "outputId": "94518f80-c513-4e2d-e575-e2cd50e04ed6"
      },
      "outputs": [
        {
          "output_type": "stream",
          "name": "stderr",
          "text": [
            "Exception ignored in: <function _MultiProcessingDataLoaderIter.__del__ at 0x7f6d770083a0>\n",
            "Traceback (most recent call last):\n",
            "  File \"/usr/local/lib/python3.10/dist-packages/torch/utils/data/dataloader.py\", line 1478, in __del__\n",
            "    self._shutdown_workers()\n",
            "  File \"/usr/local/lib/python3.10/dist-packages/torch/utils/data/dataloader.py\", line 1461, in _shutdown_workers\n",
            "    if w.is_alive():\n",
            "  File \"/usr/lib/python3.10/multiprocessing/process.py\", line 160, in is_alive\n",
            "    assert self._parent_pid == os.getpid(), 'can only test a child process'\n",
            "AssertionError: can only test a child process\n"
          ]
        },
        {
          "output_type": "display_data",
          "data": {
            "text/plain": [
              "<Figure size 640x480 with 0 Axes>"
            ]
          },
          "metadata": {}
        }
      ],
      "source": [
        "import matplotlib.pyplot as plt\n",
        "\n",
        "batch_data, batch_label = next(iter(train_loader))\n",
        "\n",
        "fig = plt.figure()\n"
      ]
    },
    {
      "cell_type": "markdown",
      "metadata": {
        "id": "y3XbVJSb7Aee"
      },
      "source": [
        "CODE BLOCK: 7"
      ]
    },
    {
      "cell_type": "code",
      "execution_count": 12,
      "metadata": {
        "id": "UHBolvMH4F8y"
      },
      "outputs": [],
      "source": [
        "from model import model_6"
      ]
    },
    {
      "cell_type": "markdown",
      "metadata": {
        "id": "89gd4_s7AO2y"
      },
      "source": [
        "CODE BLOCK: 8"
      ]
    },
    {
      "cell_type": "code",
      "execution_count": 13,
      "metadata": {
        "id": "7du4zM474LvT"
      },
      "outputs": [],
      "source": [
        "# Data to plot accuracy and loss graphs\n",
        "train_losses = []\n",
        "test_losses = []\n",
        "train_acc = []\n",
        "test_acc = []\n",
        "\n",
        "test_incorrect_pred = {'images': [], 'ground_truths': [], 'predicted_vals': []}"
      ]
    },
    {
      "cell_type": "markdown",
      "metadata": {
        "id": "kCwIPHqwAQgB"
      },
      "source": [
        "CODE BLOCK: 9"
      ]
    },
    {
      "cell_type": "code",
      "execution_count": 14,
      "metadata": {
        "id": "gpNw3-sy4QGd",
        "colab": {
          "base_uri": "https://localhost:8080/"
        },
        "outputId": "43a6a9d6-ed9a-48dc-cec7-57f4bb18c8de"
      },
      "outputs": [
        {
          "output_type": "stream",
          "name": "stdout",
          "text": [
            "Requirement already satisfied: torchsummary in /usr/local/lib/python3.10/dist-packages (1.5.1)\n",
            "----------------------------------------------------------------\n",
            "        Layer (type)               Output Shape         Param #\n",
            "================================================================\n",
            "            Conv2d-1           [-1, 32, 32, 32]             864\n",
            "              ReLU-2           [-1, 32, 32, 32]               0\n",
            "       BatchNorm2d-3           [-1, 32, 32, 32]              64\n",
            "           Dropout-4           [-1, 32, 32, 32]               0\n",
            "            Conv2d-5           [-1, 32, 32, 32]           9,216\n",
            "              ReLU-6           [-1, 32, 32, 32]               0\n",
            "       BatchNorm2d-7           [-1, 32, 32, 32]              64\n",
            "           Dropout-8           [-1, 32, 32, 32]               0\n",
            "            Conv2d-9           [-1, 64, 16, 16]          18,432\n",
            "             ReLU-10           [-1, 64, 16, 16]               0\n",
            "      BatchNorm2d-11           [-1, 64, 16, 16]             128\n",
            "          Dropout-12           [-1, 64, 16, 16]               0\n",
            "           Conv2d-13           [-1, 32, 18, 18]           2,048\n",
            "           Conv2d-14           [-1, 64, 16, 16]          18,432\n",
            "             ReLU-15           [-1, 64, 16, 16]               0\n",
            "      BatchNorm2d-16           [-1, 64, 16, 16]             128\n",
            "          Dropout-17           [-1, 64, 16, 16]               0\n",
            "           Conv2d-18             [-1, 64, 8, 8]          36,864\n",
            "             ReLU-19             [-1, 64, 8, 8]               0\n",
            "      BatchNorm2d-20             [-1, 64, 8, 8]             128\n",
            "          Dropout-21             [-1, 64, 8, 8]               0\n",
            "           Conv2d-22             [-1, 64, 8, 8]             640\n",
            "           Conv2d-23             [-1, 64, 8, 8]           4,160\n",
            "             ReLU-24             [-1, 64, 8, 8]               0\n",
            "      BatchNorm2d-25             [-1, 64, 8, 8]             128\n",
            "          Dropout-26             [-1, 64, 8, 8]               0\n",
            "           Conv2d-27             [-1, 64, 5, 5]          36,864\n",
            "             ReLU-28             [-1, 64, 5, 5]               0\n",
            "      BatchNorm2d-29             [-1, 64, 5, 5]             128\n",
            "          Dropout-30             [-1, 64, 5, 5]               0\n",
            "           Conv2d-31             [-1, 64, 7, 7]          36,864\n",
            "             ReLU-32             [-1, 64, 7, 7]               0\n",
            "      BatchNorm2d-33             [-1, 64, 7, 7]             128\n",
            "          Dropout-34             [-1, 64, 7, 7]               0\n",
            "           Conv2d-35             [-1, 64, 5, 5]          36,864\n",
            "             ReLU-36             [-1, 64, 5, 5]               0\n",
            "      BatchNorm2d-37             [-1, 64, 5, 5]             128\n",
            "          Dropout-38             [-1, 64, 5, 5]               0\n",
            "        AvgPool2d-39             [-1, 64, 1, 1]               0\n",
            "           Conv2d-40             [-1, 32, 1, 1]           2,048\n",
            "             ReLU-41             [-1, 32, 1, 1]               0\n",
            "           Conv2d-42             [-1, 10, 1, 1]             320\n",
            "================================================================\n",
            "Total params: 204,640\n",
            "Trainable params: 204,640\n",
            "Non-trainable params: 0\n",
            "----------------------------------------------------------------\n",
            "Input size (MB): 0.01\n",
            "Forward/backward pass size (MB): 3.55\n",
            "Params size (MB): 0.78\n",
            "Estimated Total Size (MB): 4.35\n",
            "----------------------------------------------------------------\n"
          ]
        }
      ],
      "source": [
        "from utils import train, test\n",
        "!pip install torchsummary\n",
        "from torchsummary import summary\n",
        "use_cuda = torch.cuda.is_available()\n",
        "device = torch.device(\"cuda\" if use_cuda else \"cpu\")\n",
        "model = model_6().to(device)\n",
        "summary(model, input_size=(3, 32, 32))"
      ]
    },
    {
      "cell_type": "markdown",
      "metadata": {
        "id": "09GYKBGRAT5M"
      },
      "source": [
        "CODE BLOCK: 10"
      ]
    },
    {
      "cell_type": "code",
      "execution_count": 15,
      "metadata": {
        "colab": {
          "base_uri": "https://localhost:8080/"
        },
        "id": "Owqiet9M4TV7",
        "outputId": "fd46588e-2e9b-4ba8-8e57-eda91bc84559"
      },
      "outputs": [
        {
          "output_type": "stream",
          "name": "stdout",
          "text": [
            "Adjusting learning rate of group 0 to 2.0000e-01.\n",
            "Epoch 1\n"
          ]
        },
        {
          "output_type": "stream",
          "name": "stderr",
          "text": [
            "Loss=1.313373327255249 Batch_id=97 Accuracy=35.23: 100%|██████████| 98/98 [00:19<00:00,  4.97it/s]\n"
          ]
        },
        {
          "output_type": "stream",
          "name": "stdout",
          "text": [
            "\n",
            "Test set: Average loss: 1.4704, Accuracy: 4611/10000 (46.11%)\n",
            "\n",
            "Adjusting learning rate of group 0 to 2.0000e-01.\n",
            "Epoch 2\n"
          ]
        },
        {
          "output_type": "stream",
          "name": "stderr",
          "text": [
            "Loss=1.1024272441864014 Batch_id=97 Accuracy=55.62: 100%|██████████| 98/98 [00:16<00:00,  5.99it/s]\n"
          ]
        },
        {
          "output_type": "stream",
          "name": "stdout",
          "text": [
            "\n",
            "Test set: Average loss: 1.1049, Accuracy: 6000/10000 (60.00%)\n",
            "\n",
            "Adjusting learning rate of group 0 to 2.0000e-01.\n",
            "Epoch 3\n"
          ]
        },
        {
          "output_type": "stream",
          "name": "stderr",
          "text": [
            "Loss=0.9174495935440063 Batch_id=97 Accuracy=64.09: 100%|██████████| 98/98 [00:14<00:00,  6.62it/s]\n"
          ]
        },
        {
          "output_type": "stream",
          "name": "stdout",
          "text": [
            "\n",
            "Test set: Average loss: 0.9520, Accuracy: 6649/10000 (66.49%)\n",
            "\n",
            "Adjusting learning rate of group 0 to 2.0000e-01.\n",
            "Epoch 4\n"
          ]
        },
        {
          "output_type": "stream",
          "name": "stderr",
          "text": [
            "Loss=0.7995248436927795 Batch_id=97 Accuracy=69.38: 100%|██████████| 98/98 [00:15<00:00,  6.29it/s]\n"
          ]
        },
        {
          "output_type": "stream",
          "name": "stdout",
          "text": [
            "\n",
            "Test set: Average loss: 0.8800, Accuracy: 6958/10000 (69.58%)\n",
            "\n",
            "Adjusting learning rate of group 0 to 2.0000e-01.\n",
            "Epoch 5\n"
          ]
        },
        {
          "output_type": "stream",
          "name": "stderr",
          "text": [
            "Loss=0.7191280126571655 Batch_id=97 Accuracy=72.99: 100%|██████████| 98/98 [00:14<00:00,  6.61it/s]\n"
          ]
        },
        {
          "output_type": "stream",
          "name": "stdout",
          "text": [
            "\n",
            "Test set: Average loss: 0.8133, Accuracy: 7186/10000 (71.86%)\n",
            "\n",
            "Adjusting learning rate of group 0 to 2.0000e-01.\n",
            "Epoch 6\n"
          ]
        },
        {
          "output_type": "stream",
          "name": "stderr",
          "text": [
            "Loss=0.6073859333992004 Batch_id=97 Accuracy=75.96: 100%|██████████| 98/98 [00:15<00:00,  6.35it/s]\n"
          ]
        },
        {
          "output_type": "stream",
          "name": "stdout",
          "text": [
            "\n",
            "Test set: Average loss: 0.8003, Accuracy: 7268/10000 (72.68%)\n",
            "\n",
            "Adjusting learning rate of group 0 to 2.0000e-01.\n",
            "Epoch 7\n"
          ]
        },
        {
          "output_type": "stream",
          "name": "stderr",
          "text": [
            "Loss=0.6592734456062317 Batch_id=97 Accuracy=78.38: 100%|██████████| 98/98 [00:15<00:00,  6.32it/s]\n"
          ]
        },
        {
          "output_type": "stream",
          "name": "stdout",
          "text": [
            "\n",
            "Test set: Average loss: 0.7414, Accuracy: 7484/10000 (74.84%)\n",
            "\n",
            "Adjusting learning rate of group 0 to 2.0000e-01.\n",
            "Epoch 8\n"
          ]
        },
        {
          "output_type": "stream",
          "name": "stderr",
          "text": [
            "Loss=0.5499259829521179 Batch_id=97 Accuracy=80.08: 100%|██████████| 98/98 [00:15<00:00,  6.26it/s]\n"
          ]
        },
        {
          "output_type": "stream",
          "name": "stdout",
          "text": [
            "\n",
            "Test set: Average loss: 0.7005, Accuracy: 7616/10000 (76.16%)\n",
            "\n",
            "Adjusting learning rate of group 0 to 2.0000e-01.\n",
            "Epoch 9\n"
          ]
        },
        {
          "output_type": "stream",
          "name": "stderr",
          "text": [
            "Loss=0.5703257322311401 Batch_id=97 Accuracy=81.48: 100%|██████████| 98/98 [00:17<00:00,  5.59it/s]\n"
          ]
        },
        {
          "output_type": "stream",
          "name": "stdout",
          "text": [
            "\n",
            "Test set: Average loss: 0.6862, Accuracy: 7723/10000 (77.23%)\n",
            "\n",
            "Adjusting learning rate of group 0 to 2.0000e-01.\n",
            "Epoch 10\n"
          ]
        },
        {
          "output_type": "stream",
          "name": "stderr",
          "text": [
            "Loss=0.5399578213691711 Batch_id=97 Accuracy=82.86: 100%|██████████| 98/98 [00:15<00:00,  6.52it/s]\n"
          ]
        },
        {
          "output_type": "stream",
          "name": "stdout",
          "text": [
            "\n",
            "Test set: Average loss: 0.7047, Accuracy: 7682/10000 (76.82%)\n",
            "\n",
            "Adjusting learning rate of group 0 to 2.0000e-01.\n",
            "Epoch 11\n"
          ]
        },
        {
          "output_type": "stream",
          "name": "stderr",
          "text": [
            "Loss=0.48066475987434387 Batch_id=97 Accuracy=83.87: 100%|██████████| 98/98 [00:15<00:00,  6.50it/s]\n"
          ]
        },
        {
          "output_type": "stream",
          "name": "stdout",
          "text": [
            "\n",
            "Test set: Average loss: 0.6826, Accuracy: 7770/10000 (77.70%)\n",
            "\n",
            "Adjusting learning rate of group 0 to 2.0000e-01.\n",
            "Epoch 12\n"
          ]
        },
        {
          "output_type": "stream",
          "name": "stderr",
          "text": [
            "Loss=0.3918949365615845 Batch_id=97 Accuracy=84.74: 100%|██████████| 98/98 [00:15<00:00,  6.23it/s]\n"
          ]
        },
        {
          "output_type": "stream",
          "name": "stdout",
          "text": [
            "\n",
            "Test set: Average loss: 0.6471, Accuracy: 7856/10000 (78.56%)\n",
            "\n",
            "Adjusting learning rate of group 0 to 2.0000e-01.\n",
            "Epoch 13\n"
          ]
        },
        {
          "output_type": "stream",
          "name": "stderr",
          "text": [
            "Loss=0.41488033533096313 Batch_id=97 Accuracy=85.86: 100%|██████████| 98/98 [00:15<00:00,  6.50it/s]\n"
          ]
        },
        {
          "output_type": "stream",
          "name": "stdout",
          "text": [
            "\n",
            "Test set: Average loss: 0.6566, Accuracy: 7852/10000 (78.52%)\n",
            "\n",
            "Adjusting learning rate of group 0 to 2.0000e-02.\n",
            "Epoch 14\n"
          ]
        },
        {
          "output_type": "stream",
          "name": "stderr",
          "text": [
            "Loss=0.2821512818336487 Batch_id=97 Accuracy=89.80: 100%|██████████| 98/98 [00:14<00:00,  6.56it/s]\n"
          ]
        },
        {
          "output_type": "stream",
          "name": "stdout",
          "text": [
            "\n",
            "Test set: Average loss: 0.5836, Accuracy: 8121/10000 (81.21%)\n",
            "\n",
            "Adjusting learning rate of group 0 to 2.0000e-02.\n",
            "Epoch 15\n"
          ]
        },
        {
          "output_type": "stream",
          "name": "stderr",
          "text": [
            "Loss=0.25210440158843994 Batch_id=97 Accuracy=91.22: 100%|██████████| 98/98 [00:15<00:00,  6.50it/s]\n"
          ]
        },
        {
          "output_type": "stream",
          "name": "stdout",
          "text": [
            "\n",
            "Test set: Average loss: 0.5990, Accuracy: 8121/10000 (81.21%)\n",
            "\n",
            "Adjusting learning rate of group 0 to 2.0000e-02.\n",
            "Epoch 16\n"
          ]
        },
        {
          "output_type": "stream",
          "name": "stderr",
          "text": [
            "Loss=0.24771565198898315 Batch_id=97 Accuracy=91.85: 100%|██████████| 98/98 [00:14<00:00,  6.56it/s]\n"
          ]
        },
        {
          "output_type": "stream",
          "name": "stdout",
          "text": [
            "\n",
            "Test set: Average loss: 0.6131, Accuracy: 8086/10000 (80.86%)\n",
            "\n",
            "Adjusting learning rate of group 0 to 2.0000e-02.\n",
            "Epoch 17\n"
          ]
        },
        {
          "output_type": "stream",
          "name": "stderr",
          "text": [
            "Loss=0.27118563652038574 Batch_id=97 Accuracy=92.26: 100%|██████████| 98/98 [00:15<00:00,  6.41it/s]\n"
          ]
        },
        {
          "output_type": "stream",
          "name": "stdout",
          "text": [
            "\n",
            "Test set: Average loss: 0.6242, Accuracy: 8127/10000 (81.27%)\n",
            "\n",
            "Adjusting learning rate of group 0 to 2.0000e-02.\n",
            "Epoch 18\n"
          ]
        },
        {
          "output_type": "stream",
          "name": "stderr",
          "text": [
            "Loss=0.2987218499183655 Batch_id=97 Accuracy=92.62: 100%|██████████| 98/98 [00:14<00:00,  6.54it/s]\n"
          ]
        },
        {
          "output_type": "stream",
          "name": "stdout",
          "text": [
            "\n",
            "Test set: Average loss: 0.6283, Accuracy: 8104/10000 (81.04%)\n",
            "\n",
            "Adjusting learning rate of group 0 to 2.0000e-02.\n",
            "Epoch 19\n"
          ]
        },
        {
          "output_type": "stream",
          "name": "stderr",
          "text": [
            "Loss=0.210114985704422 Batch_id=97 Accuracy=92.80: 100%|██████████| 98/98 [00:15<00:00,  6.19it/s]\n"
          ]
        },
        {
          "output_type": "stream",
          "name": "stdout",
          "text": [
            "\n",
            "Test set: Average loss: 0.6380, Accuracy: 8121/10000 (81.21%)\n",
            "\n",
            "Adjusting learning rate of group 0 to 2.0000e-02.\n",
            "Epoch 20\n"
          ]
        },
        {
          "output_type": "stream",
          "name": "stderr",
          "text": [
            "Loss=0.1827031821012497 Batch_id=97 Accuracy=93.12: 100%|██████████| 98/98 [00:15<00:00,  6.16it/s]\n"
          ]
        },
        {
          "output_type": "stream",
          "name": "stdout",
          "text": [
            "\n",
            "Test set: Average loss: 0.6502, Accuracy: 8111/10000 (81.11%)\n",
            "\n",
            "Adjusting learning rate of group 0 to 2.0000e-02.\n",
            "Epoch 21\n"
          ]
        },
        {
          "output_type": "stream",
          "name": "stderr",
          "text": [
            "Loss=0.1760978400707245 Batch_id=97 Accuracy=93.35: 100%|██████████| 98/98 [00:15<00:00,  6.50it/s]\n"
          ]
        },
        {
          "output_type": "stream",
          "name": "stdout",
          "text": [
            "\n",
            "Test set: Average loss: 0.6606, Accuracy: 8112/10000 (81.12%)\n",
            "\n",
            "Adjusting learning rate of group 0 to 2.0000e-02.\n",
            "Epoch 22\n"
          ]
        },
        {
          "output_type": "stream",
          "name": "stderr",
          "text": [
            "Loss=0.13122186064720154 Batch_id=97 Accuracy=93.56: 100%|██████████| 98/98 [00:15<00:00,  6.50it/s]\n"
          ]
        },
        {
          "output_type": "stream",
          "name": "stdout",
          "text": [
            "\n",
            "Test set: Average loss: 0.6748, Accuracy: 8095/10000 (80.95%)\n",
            "\n",
            "Adjusting learning rate of group 0 to 2.0000e-02.\n",
            "Epoch 23\n"
          ]
        },
        {
          "output_type": "stream",
          "name": "stderr",
          "text": [
            "Loss=0.2034805417060852 Batch_id=97 Accuracy=93.71: 100%|██████████| 98/98 [00:15<00:00,  6.20it/s]\n"
          ]
        },
        {
          "output_type": "stream",
          "name": "stdout",
          "text": [
            "\n",
            "Test set: Average loss: 0.6732, Accuracy: 8106/10000 (81.06%)\n",
            "\n",
            "Adjusting learning rate of group 0 to 2.0000e-02.\n",
            "Epoch 24\n"
          ]
        },
        {
          "output_type": "stream",
          "name": "stderr",
          "text": [
            "Loss=0.21612808108329773 Batch_id=97 Accuracy=94.08: 100%|██████████| 98/98 [00:15<00:00,  6.50it/s]\n"
          ]
        },
        {
          "output_type": "stream",
          "name": "stdout",
          "text": [
            "\n",
            "Test set: Average loss: 0.6889, Accuracy: 8117/10000 (81.17%)\n",
            "\n",
            "Adjusting learning rate of group 0 to 2.0000e-02.\n",
            "Epoch 25\n"
          ]
        },
        {
          "output_type": "stream",
          "name": "stderr",
          "text": [
            "Loss=0.19625265896320343 Batch_id=97 Accuracy=93.99: 100%|██████████| 98/98 [00:15<00:00,  6.35it/s]\n"
          ]
        },
        {
          "output_type": "stream",
          "name": "stdout",
          "text": [
            "\n",
            "Test set: Average loss: 0.7011, Accuracy: 8105/10000 (81.05%)\n",
            "\n",
            "Adjusting learning rate of group 0 to 2.0000e-02.\n",
            "Epoch 26\n"
          ]
        },
        {
          "output_type": "stream",
          "name": "stderr",
          "text": [
            "Loss=0.17709822952747345 Batch_id=97 Accuracy=94.22: 100%|██████████| 98/98 [00:15<00:00,  6.52it/s]\n"
          ]
        },
        {
          "output_type": "stream",
          "name": "stdout",
          "text": [
            "\n",
            "Test set: Average loss: 0.7100, Accuracy: 8072/10000 (80.72%)\n",
            "\n",
            "Adjusting learning rate of group 0 to 2.0000e-03.\n",
            "Epoch 27\n"
          ]
        },
        {
          "output_type": "stream",
          "name": "stderr",
          "text": [
            "Loss=0.16807539761066437 Batch_id=97 Accuracy=94.73: 100%|██████████| 98/98 [00:15<00:00,  6.53it/s]\n"
          ]
        },
        {
          "output_type": "stream",
          "name": "stdout",
          "text": [
            "\n",
            "Test set: Average loss: 0.6992, Accuracy: 8118/10000 (81.18%)\n",
            "\n",
            "Adjusting learning rate of group 0 to 2.0000e-03.\n",
            "Epoch 28\n"
          ]
        },
        {
          "output_type": "stream",
          "name": "stderr",
          "text": [
            "Loss=0.1713559925556183 Batch_id=97 Accuracy=94.75: 100%|██████████| 98/98 [00:16<00:00,  5.95it/s]\n"
          ]
        },
        {
          "output_type": "stream",
          "name": "stdout",
          "text": [
            "\n",
            "Test set: Average loss: 0.6990, Accuracy: 8122/10000 (81.22%)\n",
            "\n",
            "Adjusting learning rate of group 0 to 2.0000e-03.\n",
            "Epoch 29\n"
          ]
        },
        {
          "output_type": "stream",
          "name": "stderr",
          "text": [
            "Loss=0.1566600799560547 Batch_id=97 Accuracy=95.02: 100%|██████████| 98/98 [00:15<00:00,  6.52it/s]\n"
          ]
        },
        {
          "output_type": "stream",
          "name": "stdout",
          "text": [
            "\n",
            "Test set: Average loss: 0.7019, Accuracy: 8118/10000 (81.18%)\n",
            "\n",
            "Adjusting learning rate of group 0 to 2.0000e-03.\n",
            "Epoch 30\n"
          ]
        },
        {
          "output_type": "stream",
          "name": "stderr",
          "text": [
            "Loss=0.15609614551067352 Batch_id=97 Accuracy=95.10: 100%|██████████| 98/98 [00:15<00:00,  6.49it/s]\n"
          ]
        },
        {
          "output_type": "stream",
          "name": "stdout",
          "text": [
            "\n",
            "Test set: Average loss: 0.7023, Accuracy: 8108/10000 (81.08%)\n",
            "\n",
            "Adjusting learning rate of group 0 to 2.0000e-03.\n"
          ]
        }
      ],
      "source": [
        "use_cuda = torch.cuda.is_available()\n",
        "device = torch.device(\"cuda\" if cuda else \"cpu\")\n",
        "model = model_6().to(device)\n",
        "\n",
        "\n",
        "optimizer = optim.SGD(model.parameters(), lr=0.1, momentum=0.9)\n",
        "scheduler = optim.lr_scheduler.StepLR(optimizer, step_size=13, gamma=0.1, verbose=True)\n",
        "num_epochs = 20\n",
        "\n",
        "for epoch in range(1, num_epochs+1):\n",
        "  print(f'Epoch {epoch}')\n",
        "  model, train_losses, train_acc = train(model, device, train_loader, optimizer, train_losses, train_acc)\n",
        "  model, test_losses, test_acc = test(model, device, test_loader, test_losses, test_acc)\n",
        "  scheduler.step()"
      ]
    },
    {
      "cell_type": "markdown",
      "metadata": {
        "id": "B-LM-Z1k6FcF"
      },
      "source": [
        "CODE BLOCK: 11"
      ]
    },
    {
      "cell_type": "code",
      "execution_count": 16,
      "metadata": {
        "colab": {
          "base_uri": "https://localhost:8080/",
          "height": 870
        },
        "id": "G_62del7sgaS",
        "outputId": "d8a8b9c8-8d47-4cff-bf0c-68077204140d"
      },
      "outputs": [
        {
          "output_type": "execute_result",
          "data": {
            "text/plain": [
              "Text(0.5, 1.0, 'Test Accuracy')"
            ]
          },
          "metadata": {},
          "execution_count": 16
        },
        {
          "output_type": "display_data",
          "data": {
            "text/plain": [
              "<Figure size 1500x1000 with 4 Axes>"
            ],
            "image/png": "[encoded data removed]"
          },
          "metadata": {}
        }
      ],
      "source": [
        "# Let's visualize some of the images\n",
        "%matplotlib inline\n",
        "import matplotlib.pyplot as plt\n",
        "fig, axs = plt.subplots(2,2,figsize=(15,10))\n",
        "axs[0, 0].plot([x.cpu().item() for x in train_losses])\n",
        "axs[0, 0].set_title(\"Training Loss\")\n",
        "axs[1,0].axis(ymin=0,ymax=100)\n",
        "axs[1, 0].plot(train_acc)\n",
        "axs[1, 0].set_title(\"Training Accuracy\")\n",
        "axs[0, 1].plot(test_losses)\n",
        "axs[0, 1].set_title(\"Test Loss\")\n",
        "axs[1,1].axis(ymin=0,ymax=100)\n",
        "axs[1, 1].plot(test_acc)\n",
        "axs[1, 1].set_title(\"Test Accuracy\")\n"
      ]
    },
    {
      "cell_type": "code",
      "execution_count": null,
      "metadata": {
        "id": "p1UiYU1IsgaS"
      },
      "outputs": [],
      "source": [
        "import matplotlib.pyplot as plt\n",
        "import numpy as np\n",
        "\n",
        "class_names = ['airplane', 'automobile', 'bird', 'cat', 'deer', 'dog', 'frog', 'horse', 'ship', 'truck']\n",
        "\n",
        "def get_incorrect_images(model,test_loader,n=10):\n",
        "  incorrect_images = []\n",
        "  predicted_labels = []\n",
        "  correct_labels = []\n",
        "  for data, target in test_loader:\n",
        "    data, target = data.to(device), target.to(device)\n",
        "    output = model(data)\n",
        "    pred = output.argmax(dim=1, keepdim=True)  # get the index of the max log-probability\n",
        "    incorrect_items = pred.ne(target.view_as(pred))\n",
        "    incorrect_indices = incorrect_items.view(-1).nonzero().view(-1)\n",
        "    predicted_labels.extend([item.item() for item in pred[incorrect_indices[:n-len(incorrect_images)]]])\n",
        "    correct_labels.extend([item.item() for item in target.view_as(pred)[incorrect_indices[:n-len(incorrect_images)]]])\n",
        "    incorrect_images.extend([item for item in data[incorrect_indices[:n-len(incorrect_images)]]])\n",
        "    if len(incorrect_images)==n:\n",
        "      break\n",
        "  return incorrect_images,predicted_labels,correct_labels\n",
        "\n",
        "def imshow(img):\n",
        "  img = img / 2 + 0.5     # Unnormalize\n",
        "  npimg = img\n",
        "  npimg = np.clip(npimg, 0, 1)  # Add this line to clip the values\n",
        "  return np.transpose(npimg, (1, 2, 0))  # Convert from Tensor image\n",
        "\n",
        "fig, axes = plt.subplots(2, 5, figsize=(16, 8))\n",
        "\n",
        "incorrect_images,predicted_labels,correct_labels = get_incorrect_images(model,test_loader,n=10)\n",
        "\n",
        "for i, image_tensor in enumerate(incorrect_images):\n",
        "    ax = axes[i // 5, i % 5]  # Get the location of the subplot\n",
        "    image = image_tensor.cpu().numpy()\n",
        "    ax.imshow(imshow(image))  # Display the image\n",
        "    ax.set_title(f\"Predicted {class_names[predicted_labels[i]]}, Actual {class_names[correct_labels[i]]}\")  # Set the title as the index\n",
        "\n",
        "plt.tight_layout()  # To provide sufficient spacing between subplots\n",
        "plt.show()"
      ]
    },
    {
      "cell_type": "code",
      "execution_count": null,
      "metadata": {
        "id": "wjkFietysgaT"
      },
      "outputs": [],
      "source": [
        "use_cuda = torch.cuda.is_available()\n",
        "device = torch.device(\"cuda\" if cuda else \"cpu\")\n",
        "model = model_2().to(device)\n",
        "\n",
        "\n",
        "optimizer = optim.SGD(model.parameters(), lr=0.08, momentum=0.9)\n",
        "scheduler = optim.lr_scheduler.StepLR(optimizer, step_size=13, gamma=0.1, verbose=True)\n",
        "num_epochs = 20\n",
        "\n",
        "for epoch in range(1, num_epochs+1):\n",
        "  print(f'Epoch {epoch}')\n",
        "  model, train_losses, train_acc = train(model, device, train_loader, optimizer, train_losses, train_acc)\n",
        "  model, test_losses, test_acc = test(model, device, test_loader, test_losses, test_acc)\n",
        "  scheduler.step()"
      ]
    },
    {
      "cell_type": "code",
      "execution_count": null,
      "metadata": {
        "id": "iVjB4dkKsgaT"
      },
      "outputs": [],
      "source": [
        "# Let's visualize some of the images\n",
        "%matplotlib inline\n",
        "import matplotlib.pyplot as plt\n",
        "fig, axs = plt.subplots(2,2,figsize=(15,10))\n",
        "axs[0, 0].plot([x.cpu().item() for x in train_losses])\n",
        "axs[0, 0].set_title(\"Training Loss\")\n",
        "axs[1,0].axis(ymin=0,ymax=100)\n",
        "axs[1, 0].plot(train_acc)\n",
        "axs[1, 0].set_title(\"Training Accuracy\")\n",
        "axs[0, 1].plot(test_losses)\n",
        "axs[0, 1].set_title(\"Test Loss\")\n",
        "axs[1,1].axis(ymin=0,ymax=100)\n",
        "axs[1, 1].plot(test_acc)\n",
        "axs[1, 1].set_title(\"Test Accuracy\")"
      ]
    },
    {
      "cell_type": "code",
      "execution_count": null,
      "metadata": {
        "id": "InjBflyUsgaT"
      },
      "outputs": [],
      "source": [
        "fig, axes = plt.subplots(2, 5, figsize=(16, 8))\n",
        "\n",
        "incorrect_images,predicted_labels,correct_labels = get_incorrect_images(model,test_loader,n=10)\n",
        "\n",
        "for i, image_tensor in enumerate(incorrect_images):\n",
        "    ax = axes[i // 5, i % 5]  # Get the location of the subplot\n",
        "    image = image_tensor.cpu().numpy()\n",
        "    ax.imshow(imshow(image))  # Display the image\n",
        "    ax.set_title(f\"Predicted {class_names[predicted_labels[i]]}, Actual {class_names[correct_labels[i]]}\")  # Set the title as the index\n",
        "\n",
        "plt.tight_layout()  # To provide sufficient spacing between subplots\n",
        "plt.show()"
      ]
    },
    {
      "cell_type": "code",
      "execution_count": null,
      "metadata": {
        "id": "egdvmol2sgaU"
      },
      "outputs": [],
      "source": [
        "use_cuda = torch.cuda.is_available()\n",
        "device = torch.device(\"cuda\" if cuda else \"cpu\")\n",
        "model = model_3().to(device)\n",
        "\n",
        "\n",
        "optimizer = optim.SGD(model.parameters(), lr=0.08, momentum=0.9)\n",
        "scheduler = optim.lr_scheduler.StepLR(optimizer, step_size=13, gamma=0.1, verbose=True)\n",
        "num_epochs = 20\n",
        "\n",
        "for epoch in range(1, num_epochs+1):\n",
        "  print(f'Epoch {epoch}')\n",
        "  model, train_losses, train_acc = train(model, device, train_loader, optimizer, train_losses, train_acc)\n",
        "  model, test_losses, test_acc = test(model, device, test_loader, test_losses, test_acc)\n",
        "  scheduler.step()"
      ]
    },
    {
      "cell_type": "code",
      "execution_count": null,
      "metadata": {
        "id": "PrFsGK4VsgaU"
      },
      "outputs": [],
      "source": [
        "# Let's visualize some of the images\n",
        "%matplotlib inline\n",
        "import matplotlib.pyplot as plt\n",
        "fig, axs = plt.subplots(2,2,figsize=(15,10))\n",
        "axs[0, 0].plot([x.cpu().item() for x in train_losses])\n",
        "axs[0, 0].set_title(\"Training Loss\")\n",
        "axs[1,0].axis(ymin=0,ymax=100)\n",
        "axs[1, 0].plot(train_acc)\n",
        "axs[1, 0].set_title(\"Training Accuracy\")\n",
        "axs[0, 1].plot(test_losses)\n",
        "axs[0, 1].set_title(\"Test Loss\")\n",
        "axs[1,1].axis(ymin=0,ymax=100)\n",
        "axs[1, 1].plot(test_acc)\n",
        "axs[1, 1].set_title(\"Test Accuracy\")"
      ]
    },
    {
      "cell_type": "code",
      "execution_count": null,
      "metadata": {
        "id": "Z87rKRnmsgaU"
      },
      "outputs": [],
      "source": [
        "fig, axes = plt.subplots(2, 5, figsize=(16, 8))\n",
        "\n",
        "incorrect_images,predicted_labels,correct_labels = get_incorrect_images(model,test_loader,n=10)\n",
        "\n",
        "for i, image_tensor in enumerate(incorrect_images):\n",
        "    ax = axes[i // 5, i % 5]  # Get the location of the subplot\n",
        "    image = image_tensor.cpu().numpy()\n",
        "    ax.imshow(imshow(image))  # Display the image\n",
        "    ax.set_title(f\"Predicted {class_names[predicted_labels[i]]}, Actual {class_names[correct_labels[i]]}\")  # Set the title as the index\n",
        "\n",
        "plt.tight_layout()  # To provide sufficient spacing between subplots\n",
        "plt.show()"
      ]
    },
    {
      "cell_type": "code",
      "execution_count": 16,
      "metadata": {
        "id": "RCJO6-SxsgaV"
      },
      "outputs": [],
      "source": []
    }
  ],
  "metadata": {
    "accelerator": "GPU",
    "colab": {
      "gpuType": "T4",
      "provenance": []
    },
    "kernelspec": {
      "display_name": "Python 3 (ipykernel)",
      "language": "python",
      "name": "python3"
    },
    "language_info": {
      "codemirror_mode": {
        "name": "ipython",
        "version": 3
      },
      "file_extension": ".py",
      "mimetype": "text/x-python",
      "name": "python",
      "nbconvert_exporter": "python",
      "pygments_lexer": "ipython3",
      "version": "3.10.9"
    }
  },
  "nbformat": 4,
  "nbformat_minor": 0
}